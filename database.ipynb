{
 "cells": [
  {
   "cell_type": "code",
   "execution_count": 46,
   "metadata": {},
   "outputs": [],
   "source": [
    "import numpy as np\n",
    "import pandas as pd\n",
    "import datetime as dt\n",
    "import requests\n",
    "import json\n"
   ]
  },
  {
   "cell_type": "code",
   "execution_count": 48,
   "metadata": {},
   "outputs": [],
   "source": [
    "# Python SQL toolkit and Object Relational Mapper\n",
    "import sqlalchemy\n",
    "from sqlalchemy.ext.automap import automap_base\n",
    "from sqlalchemy.orm import Session\n",
    "from sqlalchemy import create_engine, func, inspect\n",
    "from sqlalchemy.types import Integer, Text, String, DateTime, Float\n",
    "import pandas as pd\n",
    "from resources import api_keys"
   ]
  },
  {
   "cell_type": "code",
   "execution_count": 50,
   "metadata": {},
   "outputs": [
    {
     "name": "stdout",
     "output_type": "stream",
     "text": [
      "a7f426db08402c5683dd45ec2b70823a\n"
     ]
    }
   ],
   "source": [
    "#define engine for data model we are creating\n",
    "engine = create_engine(\"sqlite:///resources/Housing_Data_Model.sqlite\")"
   ]
  },
  {
   "cell_type": "code",
   "execution_count": 10,
   "metadata": {},
   "outputs": [
    {
     "data": {
      "text/plain": [
       "[]"
      ]
     },
     "execution_count": 10,
     "metadata": {},
     "output_type": "execute_result"
    }
   ],
   "source": [
    "#ensure no keys are present to start"
   ]
  },
  {
   "cell_type": "code",
   "execution_count": 38,
   "metadata": {},
   "outputs": [
    {
     "name": "stdout",
     "output_type": "stream",
     "text": [
      "ID                    int64\n",
      "bed                 float64\n",
      "bath                float64\n",
      "acre_lot            float64\n",
      "state                object\n",
      "zip_code            float64\n",
      "house_size          float64\n",
      "prev_sold_date       object\n",
      "price               float64\n",
      "price_per_sqfoot    float64\n",
      "month                object\n",
      "dtype: object\n"
     ]
    }
   ],
   "source": [
    "#load in clean housing data as pandas df \n",
    "housing_frame = pd.read_csv('resources/clean_real_estate_data.csv') \n",
    "housing_frame = housing_frame.rename(columns={\"Unnamed: 0\": \"ID\"})\n",
    "housing_frame.head()\n",
    "test = housing_frame.dtypes\n",
    "housing_frame['prev_sold_date'] = pd.to_datetime(housing_frame['prev_sold_date'])\n",
    "print(test)"
   ]
  },
  {
   "cell_type": "code",
   "execution_count": 39,
   "metadata": {},
   "outputs": [
    {
     "data": {
      "text/plain": [
       "15679"
      ]
     },
     "execution_count": 39,
     "metadata": {},
     "output_type": "execute_result"
    }
   ],
   "source": [
    "\n",
    "housing_frame.to_sql(\n",
    "    name='housing_data',\n",
    "    con=engine,\n",
    "    if_exists='replace',\n",
    "    index=False,\n",
    "    chunksize=500,\n",
    "    dtype={\n",
    "        \"ID\": Integer,\n",
    "        \"bed\": Float,\n",
    "        \"bath\": Float,\n",
    "        \"acre_lot\": Float,\n",
    "        \"state\": Text,\n",
    "        \"zip_code\": Integer,\n",
    "        \"House_size\": Float,\n",
    "        \"prev_sold_date\":DateTime,\n",
    "        \"price\": Float,\n",
    "        \"price_per_sq\": Float,\n",
    "        \"month\": Text,\n",
    "    }\n",
    ")"
   ]
  },
  {
   "cell_type": "code",
   "execution_count": 52,
   "metadata": {},
   "outputs": [
    {
     "data": {
      "text/html": [
       "<div>\n",
       "<style scoped>\n",
       "    .dataframe tbody tr th:only-of-type {\n",
       "        vertical-align: middle;\n",
       "    }\n",
       "\n",
       "    .dataframe tbody tr th {\n",
       "        vertical-align: top;\n",
       "    }\n",
       "\n",
       "    .dataframe thead th {\n",
       "        text-align: right;\n",
       "    }\n",
       "</style>\n",
       "<table border=\"1\" class=\"dataframe\">\n",
       "  <thead>\n",
       "    <tr style=\"text-align: right;\">\n",
       "      <th></th>\n",
       "      <th>ID</th>\n",
       "      <th>bed</th>\n",
       "      <th>bath</th>\n",
       "      <th>acre_lot</th>\n",
       "      <th>state</th>\n",
       "      <th>zip_code</th>\n",
       "      <th>house_size</th>\n",
       "      <th>prev_sold_date</th>\n",
       "      <th>price</th>\n",
       "      <th>price_per_sqfoot</th>\n",
       "      <th>month</th>\n",
       "    </tr>\n",
       "  </thead>\n",
       "  <tbody>\n",
       "    <tr>\n",
       "      <th>0</th>\n",
       "      <td>24268</td>\n",
       "      <td>3.0</td>\n",
       "      <td>2.0</td>\n",
       "      <td>0.16</td>\n",
       "      <td>Massachusetts</td>\n",
       "      <td>1002</td>\n",
       "      <td>1280.0</td>\n",
       "      <td>2021-08-19 00:00:00.000000</td>\n",
       "      <td>275000.0</td>\n",
       "      <td>215.0</td>\n",
       "      <td>2021-08</td>\n",
       "    </tr>\n",
       "    <tr>\n",
       "      <th>1</th>\n",
       "      <td>25013</td>\n",
       "      <td>4.0</td>\n",
       "      <td>3.0</td>\n",
       "      <td>0.46</td>\n",
       "      <td>Massachusetts</td>\n",
       "      <td>1075</td>\n",
       "      <td>2108.0</td>\n",
       "      <td>2021-09-21 00:00:00.000000</td>\n",
       "      <td>400000.0</td>\n",
       "      <td>190.0</td>\n",
       "      <td>2021-09</td>\n",
       "    </tr>\n",
       "    <tr>\n",
       "      <th>2</th>\n",
       "      <td>25062</td>\n",
       "      <td>4.0</td>\n",
       "      <td>1.0</td>\n",
       "      <td>0.91</td>\n",
       "      <td>Massachusetts</td>\n",
       "      <td>1027</td>\n",
       "      <td>1404.0</td>\n",
       "      <td>2021-09-23 00:00:00.000000</td>\n",
       "      <td>349900.0</td>\n",
       "      <td>249.0</td>\n",
       "      <td>2021-09</td>\n",
       "    </tr>\n",
       "    <tr>\n",
       "      <th>3</th>\n",
       "      <td>25101</td>\n",
       "      <td>3.0</td>\n",
       "      <td>2.0</td>\n",
       "      <td>0.16</td>\n",
       "      <td>Massachusetts</td>\n",
       "      <td>1002</td>\n",
       "      <td>1280.0</td>\n",
       "      <td>2021-08-19 00:00:00.000000</td>\n",
       "      <td>275000.0</td>\n",
       "      <td>215.0</td>\n",
       "      <td>2021-08</td>\n",
       "    </tr>\n",
       "    <tr>\n",
       "      <th>4</th>\n",
       "      <td>25181</td>\n",
       "      <td>4.0</td>\n",
       "      <td>2.0</td>\n",
       "      <td>0.13</td>\n",
       "      <td>Massachusetts</td>\n",
       "      <td>1040</td>\n",
       "      <td>1529.0</td>\n",
       "      <td>2021-03-22 00:00:00.000000</td>\n",
       "      <td>229000.0</td>\n",
       "      <td>150.0</td>\n",
       "      <td>2021-03</td>\n",
       "    </tr>\n",
       "  </tbody>\n",
       "</table>\n",
       "</div>"
      ],
      "text/plain": [
       "      ID  bed  bath  acre_lot          state  zip_code  house_size  \\\n",
       "0  24268  3.0   2.0      0.16  Massachusetts      1002      1280.0   \n",
       "1  25013  4.0   3.0      0.46  Massachusetts      1075      2108.0   \n",
       "2  25062  4.0   1.0      0.91  Massachusetts      1027      1404.0   \n",
       "3  25101  3.0   2.0      0.16  Massachusetts      1002      1280.0   \n",
       "4  25181  4.0   2.0      0.13  Massachusetts      1040      1529.0   \n",
       "\n",
       "               prev_sold_date     price  price_per_sqfoot    month  \n",
       "0  2021-08-19 00:00:00.000000  275000.0             215.0  2021-08  \n",
       "1  2021-09-21 00:00:00.000000  400000.0             190.0  2021-09  \n",
       "2  2021-09-23 00:00:00.000000  349900.0             249.0  2021-09  \n",
       "3  2021-08-19 00:00:00.000000  275000.0             215.0  2021-08  \n",
       "4  2021-03-22 00:00:00.000000  229000.0             150.0  2021-03  "
      ]
     },
     "execution_count": 52,
     "metadata": {},
     "output_type": "execute_result"
    }
   ],
   "source": [
    "#query data \n",
    "engine.execute(\"SELECT * FROM housing_data\").fetchall()\n",
    "\n",
    "queried_data = pd.DataFrame(engine.execute(\"SELECT * FROM housing_data\").fetchall())\n",
    "queried_data.to_csv('housing_data_sql_extract.csv')\n",
    "queried_data.head()"
   ]
  },
  {
   "cell_type": "code",
   "execution_count": null,
   "metadata": {},
   "outputs": [],
   "source": []
  }
 ],
 "metadata": {
  "kernelspec": {
   "display_name": "databootcamp",
   "language": "python",
   "name": "python3"
  },
  "language_info": {
   "codemirror_mode": {
    "name": "ipython",
    "version": 3
   },
   "file_extension": ".py",
   "mimetype": "text/x-python",
   "name": "python",
   "nbconvert_exporter": "python",
   "pygments_lexer": "ipython3",
   "version": "3.10.11"
  },
  "orig_nbformat": 4
 },
 "nbformat": 4,
 "nbformat_minor": 2
}
