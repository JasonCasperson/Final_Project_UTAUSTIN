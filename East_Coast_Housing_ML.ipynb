{
 "cells": [
  {
   "cell_type": "markdown",
   "metadata": {},
   "source": []
  },
  {
   "cell_type": "markdown",
   "metadata": {},
   "source": [
    "#Project: Real Estate Analysis\n",
    "#Authors: Desmond , Jair  , Alexander, Jason\n",
    "#Date\n",
    "\n",
    "#This project aims to invesitgate the relationship between real esate metrics and weather data"
   ]
  },
  {
   "cell_type": "code",
   "execution_count": 66,
   "metadata": {},
   "outputs": [],
   "source": [
    "#Import libraries\n",
    "import pandas as pd\n",
    "import matplotlib.pyplot as plt\n",
    "from sklearn.model_selection import train_test_split\n",
    "from sklearn.preprocessing import StandardScaler\n",
    "from sklearn.decomposition import PCA\n",
    "from sklearn.cluster import KMeans\n",
    "from sklearn.model_selection import cross_val_score\n",
    "from sklearn.linear_model import LinearRegression\n",
    "from sklearn.tree import DecisionTreeRegressor\n",
    "from sklearn.ensemble import RandomForestRegressor, GradientBoostingRegressor\n",
    "from sklearn.metrics import mean_squared_error\n",
    "from sklearn.model_selection import GridSearchCV\n",
    "import matplotlib.pyplot as pyplot\n",
    "import sqlalchemy\n",
    "from sqlalchemy import create_engine\n",
    "from sqlalchemy.orm import sessionmaker\n",
    "from sqlalchemy.ext.automap import automap_base\n",
    "from sqlalchemy.orm import Session\n",
    "from sqlalchemy import create_engine, func, inspect\n",
    "from sqlalchemy.types import Integer, Text, String, DateTime, Float\n"
   ]
  },
  {
   "cell_type": "code",
   "execution_count": 67,
   "metadata": {},
   "outputs": [],
   "source": [
    "#Method 1\n",
    "#from models import Base, RealEEstateData\n",
    "\n",
    "#Method 2\n",
    "#from database_real_estate import SessionRealEstate, RealEstateData\n",
    "#from database_weather  import SessionWeather, WeatherData"
   ]
  },
  {
   "cell_type": "code",
   "execution_count": 68,
   "metadata": {},
   "outputs": [],
   "source": [
    "#Data Loading and SQL Operations:\n",
    "#Method 1\n",
    "engine = create_engine('sqlite:///Resources/Housing_Data_Model.sqlite')\n",
    "Session = sessionmaker(bind=engine)\n",
    "session = Session()\n",
    "\n",
    "\n",
    "queried_data = pd.DataFrame(engine.execute(\"SELECT * FROM housing_data\").fetchall())\n",
    "\n",
    "\n",
    "\n",
    "#Method 2\n",
    "#real_estate_session = SessionRealEstate()\n",
    "#weather_session = SessionWeather()\n",
    "\n",
    "#real_estate_df = pd.read_sql(real_estate_session.query(RealEstateData).statment,real_estate_session.bind)\n",
    "#weather_df = pd.read_sql(weather_session.query(WeatherData).statment, weather_session.bind)"
   ]
  },
  {
   "cell_type": "code",
   "execution_count": 69,
   "metadata": {},
   "outputs": [
    {
     "name": "stdout",
     "output_type": "stream",
     "text": [
      "           ID  bed  bath  acre_lot          state  zip_code  house_size  \\\n",
      "0       24268  3.0   2.0      0.16  Massachusetts      1002      1280.0   \n",
      "1       25013  4.0   3.0      0.46  Massachusetts      1075      2108.0   \n",
      "2       25062  4.0   1.0      0.91  Massachusetts      1027      1404.0   \n",
      "3       25101  3.0   2.0      0.16  Massachusetts      1002      1280.0   \n",
      "4       25181  4.0   2.0      0.13  Massachusetts      1040      1529.0   \n",
      "...       ...  ...   ...       ...            ...       ...         ...   \n",
      "15674  904732  3.0   2.0      0.06       New York     10473      1950.0   \n",
      "15675  904762  6.0   4.0      0.10       New York     11550      2041.0   \n",
      "15676  904772  3.0   2.0      0.04       New York     10461      1852.0   \n",
      "15677  904853  3.0   3.0      0.31       New York     10502      1905.0   \n",
      "15678  904885  1.0   2.0      9.00       New York     10543      1098.0   \n",
      "\n",
      "                   prev_sold_date     price  price_per_sqfoot    month  \n",
      "0      2021-08-19 00:00:00.000000  275000.0             215.0  2021-08  \n",
      "1      2021-09-21 00:00:00.000000  400000.0             190.0  2021-09  \n",
      "2      2021-09-23 00:00:00.000000  349900.0             249.0  2021-09  \n",
      "3      2021-08-19 00:00:00.000000  275000.0             215.0  2021-08  \n",
      "4      2021-03-22 00:00:00.000000  229000.0             150.0  2021-03  \n",
      "...                           ...       ...               ...      ...  \n",
      "15674  2021-11-22 00:00:00.000000  699999.0             359.0  2021-11  \n",
      "15675  2021-07-30 00:00:00.000000  599000.0             293.0  2021-07  \n",
      "15676  2021-08-04 00:00:00.000000  689999.0             373.0  2021-08  \n",
      "15677  2021-10-27 00:00:00.000000  929000.0             488.0  2021-10  \n",
      "15678  2021-05-27 00:00:00.000000  569000.0             518.0  2021-05  \n",
      "\n",
      "[15679 rows x 11 columns]\n"
     ]
    }
   ],
   "source": [
    "#Close Sesisons\n",
    "print(queried_data)\n",
    "session.close()\n"
   ]
  },
  {
   "cell_type": "code",
   "execution_count": 70,
   "metadata": {},
   "outputs": [],
   "source": [
    "#Load real esate and weather data from CSV \n",
    "#real_estate_data = pd.read_csv('resources/clean_real_estate_data.csv')\n",
    "\n",
    "#weather_data = pd.read_csv('resources/real/real_estate_data.csv')"
   ]
  },
  {
   "cell_type": "code",
   "execution_count": 71,
   "metadata": {},
   "outputs": [
    {
     "data": {
      "text/html": [
       "<div>\n",
       "<style scoped>\n",
       "    .dataframe tbody tr th:only-of-type {\n",
       "        vertical-align: middle;\n",
       "    }\n",
       "\n",
       "    .dataframe tbody tr th {\n",
       "        vertical-align: top;\n",
       "    }\n",
       "\n",
       "    .dataframe thead th {\n",
       "        text-align: right;\n",
       "    }\n",
       "</style>\n",
       "<table border=\"1\" class=\"dataframe\">\n",
       "  <thead>\n",
       "    <tr style=\"text-align: right;\">\n",
       "      <th></th>\n",
       "      <th>ID</th>\n",
       "      <th>bed</th>\n",
       "      <th>bath</th>\n",
       "      <th>acre_lot</th>\n",
       "      <th>zip_code</th>\n",
       "      <th>house_size</th>\n",
       "      <th>price</th>\n",
       "      <th>price_per_sqfoot</th>\n",
       "    </tr>\n",
       "  </thead>\n",
       "  <tbody>\n",
       "    <tr>\n",
       "      <th>ID</th>\n",
       "      <td>1.000000</td>\n",
       "      <td>0.078941</td>\n",
       "      <td>0.146057</td>\n",
       "      <td>0.025994</td>\n",
       "      <td>0.659092</td>\n",
       "      <td>0.052058</td>\n",
       "      <td>0.099181</td>\n",
       "      <td>0.114986</td>\n",
       "    </tr>\n",
       "    <tr>\n",
       "      <th>bed</th>\n",
       "      <td>0.078941</td>\n",
       "      <td>1.000000</td>\n",
       "      <td>0.648341</td>\n",
       "      <td>-0.014197</td>\n",
       "      <td>0.019322</td>\n",
       "      <td>0.479547</td>\n",
       "      <td>0.280352</td>\n",
       "      <td>-0.018215</td>\n",
       "    </tr>\n",
       "    <tr>\n",
       "      <th>bath</th>\n",
       "      <td>0.146057</td>\n",
       "      <td>0.648341</td>\n",
       "      <td>1.000000</td>\n",
       "      <td>0.011911</td>\n",
       "      <td>0.055871</td>\n",
       "      <td>0.524287</td>\n",
       "      <td>0.567940</td>\n",
       "      <td>0.211843</td>\n",
       "    </tr>\n",
       "    <tr>\n",
       "      <th>acre_lot</th>\n",
       "      <td>0.025994</td>\n",
       "      <td>-0.014197</td>\n",
       "      <td>0.011911</td>\n",
       "      <td>1.000000</td>\n",
       "      <td>0.007317</td>\n",
       "      <td>0.007353</td>\n",
       "      <td>0.001235</td>\n",
       "      <td>-0.009537</td>\n",
       "    </tr>\n",
       "    <tr>\n",
       "      <th>zip_code</th>\n",
       "      <td>0.659092</td>\n",
       "      <td>0.019322</td>\n",
       "      <td>0.055871</td>\n",
       "      <td>0.007317</td>\n",
       "      <td>1.000000</td>\n",
       "      <td>-0.031749</td>\n",
       "      <td>0.005399</td>\n",
       "      <td>0.006650</td>\n",
       "    </tr>\n",
       "    <tr>\n",
       "      <th>house_size</th>\n",
       "      <td>0.052058</td>\n",
       "      <td>0.479547</td>\n",
       "      <td>0.524287</td>\n",
       "      <td>0.007353</td>\n",
       "      <td>-0.031749</td>\n",
       "      <td>1.000000</td>\n",
       "      <td>0.349971</td>\n",
       "      <td>-0.031920</td>\n",
       "    </tr>\n",
       "    <tr>\n",
       "      <th>price</th>\n",
       "      <td>0.099181</td>\n",
       "      <td>0.280352</td>\n",
       "      <td>0.567940</td>\n",
       "      <td>0.001235</td>\n",
       "      <td>0.005399</td>\n",
       "      <td>0.349971</td>\n",
       "      <td>1.000000</td>\n",
       "      <td>0.684290</td>\n",
       "    </tr>\n",
       "    <tr>\n",
       "      <th>price_per_sqfoot</th>\n",
       "      <td>0.114986</td>\n",
       "      <td>-0.018215</td>\n",
       "      <td>0.211843</td>\n",
       "      <td>-0.009537</td>\n",
       "      <td>0.006650</td>\n",
       "      <td>-0.031920</td>\n",
       "      <td>0.684290</td>\n",
       "      <td>1.000000</td>\n",
       "    </tr>\n",
       "  </tbody>\n",
       "</table>\n",
       "</div>"
      ],
      "text/plain": [
       "                        ID       bed      bath  acre_lot  zip_code  \\\n",
       "ID                1.000000  0.078941  0.146057  0.025994  0.659092   \n",
       "bed               0.078941  1.000000  0.648341 -0.014197  0.019322   \n",
       "bath              0.146057  0.648341  1.000000  0.011911  0.055871   \n",
       "acre_lot          0.025994 -0.014197  0.011911  1.000000  0.007317   \n",
       "zip_code          0.659092  0.019322  0.055871  0.007317  1.000000   \n",
       "house_size        0.052058  0.479547  0.524287  0.007353 -0.031749   \n",
       "price             0.099181  0.280352  0.567940  0.001235  0.005399   \n",
       "price_per_sqfoot  0.114986 -0.018215  0.211843 -0.009537  0.006650   \n",
       "\n",
       "                  house_size     price  price_per_sqfoot  \n",
       "ID                  0.052058  0.099181          0.114986  \n",
       "bed                 0.479547  0.280352         -0.018215  \n",
       "bath                0.524287  0.567940          0.211843  \n",
       "acre_lot            0.007353  0.001235         -0.009537  \n",
       "zip_code           -0.031749  0.005399          0.006650  \n",
       "house_size          1.000000  0.349971         -0.031920  \n",
       "price               0.349971  1.000000          0.684290  \n",
       "price_per_sqfoot   -0.031920  0.684290          1.000000  "
      ]
     },
     "execution_count": 71,
     "metadata": {},
     "output_type": "execute_result"
    }
   ],
   "source": [
    "queried_data.corr(numeric_only=True)\n",
    "\n",
    "#Evaluate Data\n",
    "#Drop price per-sqft\n"
   ]
  },
  {
   "cell_type": "code",
   "execution_count": 72,
   "metadata": {},
   "outputs": [],
   "source": [
    "#| Variable           | Strong Positive Correlations                 | Strong Negative Correlations                 |\n",
    "#|--------------------|----------------------------------------------|----------------------------------------------|\n",
    "#| Unnamed: 0         | Zip Code (0.659092)                          | -                                            |\n",
    "#| Bed                | Bath (0.648341), House Size (0.479547)       | -                                            |\n",
    "#| Bath               | Bed (0.648341), House Size (0.524287)        | -                                            |\n",
    "#| Acre Lot           | -                                            | -                                            |\n",
    "#| Zip Code           | Unnamed: 0 (0.659092)                        | House Size (-0.031749)                       |\n",
    "#| House Size         | Bed (0.479547), Bath (0.524287)              | Zip Code (-0.031749)                         |\n",
    "#| Price              | Bath (0.567940), House Size (0.349971), Price Per Sqfoot (0.684290) | -                     |\n",
    "#| Price Per Sqfoot   | Price (0.684290)                             | -                                            |\n"
   ]
  },
  {
   "cell_type": "code",
   "execution_count": 73,
   "metadata": {},
   "outputs": [],
   "source": [
    "#Merge dataset based on common feature\n",
    "#merged_data = pd.merge(real_estate_data, weather_df, on = 'location') #getdummy on location to encode text to numerical\n",
    "#merged_data = pd.get_dummies(merged_data,columns=['location'], drop_first= True)"
   ]
  },
  {
   "cell_type": "code",
   "execution_count": 74,
   "metadata": {},
   "outputs": [],
   "source": [
    "#Remove Outliers\n",
    "Q1 = queried_data['price'].quantile(.25)\n",
    "Q3 = queried_data['price'].quantile(.75)\n",
    "IQR = Q3 -Q1\n",
    "queried_data = queried_data[(queried_data['price'] > Q1- 1.5 * IQR)& (queried_data['price'] < Q3 + 1.5 *  IQR)]"
   ]
  },
  {
   "cell_type": "code",
   "execution_count": 75,
   "metadata": {},
   "outputs": [],
   "source": [
    "X = queried_data.loc[:,['house_size', 'zip_code', 'acre_lot','bed']] #Features #find zipcode insted from top 5 States\n",
    "Y = queried_data['price'] #Target variable"
   ]
  },
  {
   "cell_type": "code",
   "execution_count": 76,
   "metadata": {},
   "outputs": [],
   "source": [
    "#Split Data into training and testing sets\n",
    "X_train, X_test, y_train, y_test = train_test_split(X,Y, test_size = 0.2,random_state =42)"
   ]
  },
  {
   "cell_type": "code",
   "execution_count": 77,
   "metadata": {},
   "outputs": [],
   "source": [
    "#Standardize features\n",
    "scaler = StandardScaler()  #\n",
    "X_train_scaled = scaler.fit_transform(X_train)\n",
    "X_test_scaled = scaler.transform(X_test)"
   ]
  },
  {
   "cell_type": "code",
   "execution_count": 78,
   "metadata": {},
   "outputs": [],
   "source": [
    "#Principal Component Analysis (PCA)\n",
    "pca = PCA(n_components =2)\n",
    "X_train_pca = pca.fit_transform(X_train_scaled)\n",
    "X_test_pca = pca.transform(X_test_scaled)\n"
   ]
  },
  {
   "cell_type": "code",
   "execution_count": 79,
   "metadata": {},
   "outputs": [
    {
     "name": "stderr",
     "output_type": "stream",
     "text": [
      "c:\\Users\\desmo\\anaconda3\\envs\\EdX\\lib\\site-packages\\sklearn\\cluster\\_kmeans.py:870: FutureWarning: The default value of `n_init` will change from 10 to 'auto' in 1.4. Set the value of `n_init` explicitly to suppress the warning\n",
      "  warnings.warn(\n"
     ]
    }
   ],
   "source": [
    "#K-Means Clustering\n",
    "kmeans = KMeans(n_clusters = 3, random_state =  42) #Why three clusters\n",
    "X_train_cluster = kmeans.fit_predict(X_train_scaled)\n",
    "X_test_cluster = kmeans.predict(X_test_scaled)"
   ]
  },
  {
   "cell_type": "code",
   "execution_count": 80,
   "metadata": {},
   "outputs": [],
   "source": [
    "#Intialize Paramter Grid\n",
    "param_grid = {\n",
    "    'n_estimators':[50,100,200],\n",
    "    'max_depth' : [None,10,20],\n",
    "    'min_samples_split':[2,5,10],\n",
    "    'min_samples_leaf':[1,2,4]\n",
    "}"
   ]
  },
  {
   "cell_type": "code",
   "execution_count": 86,
   "metadata": {},
   "outputs": [
    {
     "name": "stdout",
     "output_type": "stream",
     "text": [
      "Linear Regression- Cross-Validated R Squared Error:-0.09838708376026908\n",
      "Decision Tree Regressor- Cross-Validated R Squared Error:-0.9543269180905426\n",
      "Random Forest Regressor- Cross-Validated R Squared Error:-0.9650023979091239\n",
      "Gradient Boosting Regressor- Cross-Validated R Squared Error:-0.706194625056925\n",
      "Best Model:('Random Forest Regressor', -0.9650023979091239)\n"
     ]
    }
   ],
   "source": [
    "#Regression Models\n",
    "models = {\n",
    "    'Linear Regression': LinearRegression(),#Linear Regression Perform Poorest\n",
    "    'Decision Tree Regressor': DecisionTreeRegressor(random_state=42),\n",
    "    'Random Forest Regressor': RandomForestRegressor(random_state=42), #Measures feature importance #How many trees? #Process of improvement using <-\n",
    "    'Gradient Boosting Regressor': GradientBoostingRegressor(random_state =42)\n",
    "}\n",
    "\n",
    "mse_results = []\n",
    "\n",
    "#Cross Validate Scores\n",
    "for model_name, model in models.items():\n",
    "   # Cross- validation\n",
    "   cv_results = cross_val_score(model, X_train_scaled,y_train,cv=5,scoring='r2')# use rsquared value\n",
    "   cv_mse = -cv_results.mean()\n",
    "   mse_results.append((model_name,cv_mse))\n",
    "   print(f'{model_name}- Cross-Validated R Squared Error:{cv_mse}')\n",
    "\n",
    "best_model = min(mse_results, key =lambda x: x[1])\n",
    "print(f'Best Model:{best_model}')"
   ]
  },
  {
   "cell_type": "code",
   "execution_count": null,
   "metadata": {},
   "outputs": [],
   "source": []
  },
  {
   "cell_type": "code",
   "execution_count": 82,
   "metadata": {},
   "outputs": [
    {
     "name": "stdout",
     "output_type": "stream",
     "text": [
      "Best Hpyerparameters {'max_depth': None, 'min_samples_leaf': 1, 'min_samples_split': 2, 'n_estimators': 100}\n"
     ]
    }
   ],
   "source": [
    "#Find Best Parameters\n",
    "rf_model = RandomForestRegressor()\n",
    "grid_search = GridSearchCV(estimator = rf_model,param_grid =param_grid, cv=5,scoring='neg_mean_squared_error', n_jobs =-1)\n",
    "grid_search.fit(X_train_scaled, y_train)\n",
    "\n",
    "best_params = grid_search.best_params_\n",
    "print(\"Best Hpyerparameters\",best_params)\n"
   ]
  },
  {
   "cell_type": "code",
   "execution_count": 84,
   "metadata": {},
   "outputs": [
    {
     "name": "stdout",
     "output_type": "stream",
     "text": [
      "      Feature  Importances\n",
      "0  house_size     0.424606\n",
      "1    zip_code     0.410131\n",
      "2    acre_lot     0.123997\n",
      "3         bed     0.041266\n"
     ]
    },
    {
     "ename": "AttributeError",
     "evalue": "Text.set() got an unexpected keyword argument 'roation'",
     "output_type": "error",
     "traceback": [
      "\u001b[1;31m---------------------------------------------------------------------------\u001b[0m",
      "\u001b[1;31mAttributeError\u001b[0m                            Traceback (most recent call last)",
      "Cell \u001b[1;32mIn[84], line 19\u001b[0m\n\u001b[0;32m     17\u001b[0m plt\u001b[39m.\u001b[39mylabel(\u001b[39m'\u001b[39m\u001b[39mImportance\u001b[39m\u001b[39m'\u001b[39m)\n\u001b[0;32m     18\u001b[0m plt\u001b[39m.\u001b[39mtitle(\u001b[39m'\u001b[39m\u001b[39mFeature Importances\u001b[39m\u001b[39m'\u001b[39m)\n\u001b[1;32m---> 19\u001b[0m plt\u001b[39m.\u001b[39;49mxticks(roation\u001b[39m=\u001b[39;49m \u001b[39m45\u001b[39;49m)\n\u001b[0;32m     20\u001b[0m plt\u001b[39m.\u001b[39mshow()\n",
      "File \u001b[1;32mc:\\Users\\desmo\\anaconda3\\envs\\EdX\\lib\\site-packages\\matplotlib\\pyplot.py:1891\u001b[0m, in \u001b[0;36mxticks\u001b[1;34m(ticks, labels, minor, **kwargs)\u001b[0m\n\u001b[0;32m   1889\u001b[0m     labels \u001b[39m=\u001b[39m ax\u001b[39m.\u001b[39mget_xticklabels(minor\u001b[39m=\u001b[39mminor)\n\u001b[0;32m   1890\u001b[0m     \u001b[39mfor\u001b[39;00m l \u001b[39min\u001b[39;00m labels:\n\u001b[1;32m-> 1891\u001b[0m         l\u001b[39m.\u001b[39;49m_internal_update(kwargs)\n\u001b[0;32m   1892\u001b[0m \u001b[39melse\u001b[39;00m:\n\u001b[0;32m   1893\u001b[0m     labels \u001b[39m=\u001b[39m ax\u001b[39m.\u001b[39mset_xticklabels(labels, minor\u001b[39m=\u001b[39mminor, \u001b[39m*\u001b[39m\u001b[39m*\u001b[39mkwargs)\n",
      "File \u001b[1;32mc:\\Users\\desmo\\anaconda3\\envs\\EdX\\lib\\site-packages\\matplotlib\\artist.py:1223\u001b[0m, in \u001b[0;36mArtist._internal_update\u001b[1;34m(self, kwargs)\u001b[0m\n\u001b[0;32m   1216\u001b[0m \u001b[39mdef\u001b[39;00m \u001b[39m_internal_update\u001b[39m(\u001b[39mself\u001b[39m, kwargs):\n\u001b[0;32m   1217\u001b[0m     \u001b[39m\"\"\"\u001b[39;00m\n\u001b[0;32m   1218\u001b[0m \u001b[39m    Update artist properties without prenormalizing them, but generating\u001b[39;00m\n\u001b[0;32m   1219\u001b[0m \u001b[39m    errors as if calling `set`.\u001b[39;00m\n\u001b[0;32m   1220\u001b[0m \n\u001b[0;32m   1221\u001b[0m \u001b[39m    The lack of prenormalization is to maintain backcompatibility.\u001b[39;00m\n\u001b[0;32m   1222\u001b[0m \u001b[39m    \"\"\"\u001b[39;00m\n\u001b[1;32m-> 1223\u001b[0m     \u001b[39mreturn\u001b[39;00m \u001b[39mself\u001b[39;49m\u001b[39m.\u001b[39;49m_update_props(\n\u001b[0;32m   1224\u001b[0m         kwargs, \u001b[39m\"\u001b[39;49m\u001b[39m{cls.__name__}\u001b[39;49;00m\u001b[39m.set() got an unexpected keyword argument \u001b[39;49m\u001b[39m\"\u001b[39;49m\n\u001b[0;32m   1225\u001b[0m         \u001b[39m\"\u001b[39;49m\u001b[39m{prop_name!r}\u001b[39;49;00m\u001b[39m\"\u001b[39;49m)\n",
      "File \u001b[1;32mc:\\Users\\desmo\\anaconda3\\envs\\EdX\\lib\\site-packages\\matplotlib\\artist.py:1197\u001b[0m, in \u001b[0;36mArtist._update_props\u001b[1;34m(self, props, errfmt)\u001b[0m\n\u001b[0;32m   1195\u001b[0m             func \u001b[39m=\u001b[39m \u001b[39mgetattr\u001b[39m(\u001b[39mself\u001b[39m, \u001b[39mf\u001b[39m\u001b[39m\"\u001b[39m\u001b[39mset_\u001b[39m\u001b[39m{\u001b[39;00mk\u001b[39m}\u001b[39;00m\u001b[39m\"\u001b[39m, \u001b[39mNone\u001b[39;00m)\n\u001b[0;32m   1196\u001b[0m             \u001b[39mif\u001b[39;00m \u001b[39mnot\u001b[39;00m callable(func):\n\u001b[1;32m-> 1197\u001b[0m                 \u001b[39mraise\u001b[39;00m \u001b[39mAttributeError\u001b[39;00m(\n\u001b[0;32m   1198\u001b[0m                     errfmt\u001b[39m.\u001b[39mformat(\u001b[39mcls\u001b[39m\u001b[39m=\u001b[39m\u001b[39mtype\u001b[39m(\u001b[39mself\u001b[39m), prop_name\u001b[39m=\u001b[39mk))\n\u001b[0;32m   1199\u001b[0m             ret\u001b[39m.\u001b[39mappend(func(v))\n\u001b[0;32m   1200\u001b[0m \u001b[39mif\u001b[39;00m ret:\n",
      "\u001b[1;31mAttributeError\u001b[0m: Text.set() got an unexpected keyword argument 'roation'"
     ]
    },
    {
     "data": {
      "image/png": "[encoded data removed]",
      "text/plain": [
       "<Figure size 640x480 with 1 Axes>"
      ]
     },
     "metadata": {},
     "output_type": "display_data"
    }
   ],
   "source": [
    "#Train Model Using Best Paramters\n",
    "best_rf_model = RandomForestRegressor(random_state=42,**best_params)\n",
    "best_rf_model.fit(X_train_scaled,y_train)\n",
    "\n",
    "\n",
    "#Get Feature Importances\n",
    "feature_importances = best_rf_model.feature_importances_\n",
    "\n",
    "#Create Dataframe to display Feature Importances\n",
    "feature_importance_df = pd.DataFrame({'Feature': X.columns, 'Importances': feature_importances})\n",
    "feature_importance_df = feature_importance_df.sort_values(by='Importances',ascending=False)\n",
    "\n",
    "#Print Feature Importances\n",
    "print(feature_importance_df)\n",
    "plt.bar(feature_importance_df['Feature'],feature_importance_df['Importances'])\n",
    "plt.xlabel('Feature')\n",
    "plt.ylabel('Importance')\n",
    "plt.title('Feature Importances')\n",
    "plt.xticks(roation= 45)\n",
    "plt.show()\n",
    "\n",
    "\n"
   ]
  },
  {
   "cell_type": "code",
   "execution_count": 65,
   "metadata": {},
   "outputs": [
    {
     "data": {
      "image/png": "[encoded data removed]",
      "text/plain": [
       "<Figure size 640x480 with 1 Axes>"
      ]
     },
     "metadata": {},
     "output_type": "display_data"
    }
   ],
   "source": [
    "#Visualization \n",
    "plt.scatter(X_test_pca[:,0], X_test_pca[:,1], c=X_test_cluster,cmap=\"viridis\")\n",
    "plt.title('PCA and Clustering Visualization')\n",
    "plt.show()\n"
   ]
  },
  {
   "cell_type": "code",
   "execution_count": null,
   "metadata": {},
   "outputs": [],
   "source": [
    "#Q/A \n",
    "#Things to Do:\n",
    "#Explain bias and limitations\n",
    "\n"
   ]
  }
 ],
 "metadata": {
  "kernelspec": {
   "display_name": "EdX",
   "language": "python",
   "name": "python3"
  },
  "language_info": {
   "codemirror_mode": {
    "name": "ipython",
    "version": 3
   },
   "file_extension": ".py",
   "mimetype": "text/x-python",
   "name": "python",
   "nbconvert_exporter": "python",
   "pygments_lexer": "ipython3",
   "version": "3.10.11"
  },
  "orig_nbformat": 4
 },
 "nbformat": 4,
 "nbformat_minor": 2
}
